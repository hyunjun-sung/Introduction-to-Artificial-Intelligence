{
 "cells": [
  {
   "cell_type": "code",
   "execution_count": 1,
   "id": "bafa41bc",
   "metadata": {},
   "outputs": [],
   "source": [
    "import pandas as pd\n",
    "import numpy as np\n",
    "import torch\n",
    "import torch.nn as nn\n",
    "import torch.optim as optim\n",
    "from torch.utils.data import Dataset, DataLoader, TensorDataset\n",
    "from sklearn.preprocessing import LabelEncoder, StandardScaler\n",
    "from sklearn.metrics import precision_score, recall_score, f1_score, roc_auc_score, confusion_matrix, ConfusionMatrixDisplay, mean_squared_error\n",
    "from sklearn.model_selection import train_test_split\n",
    "\n",
    "import matplotlib.pyplot as plt\n",
    "from torchsummary import summary\n",
    "import numpy as np"
   ]
  },
  {
   "cell_type": "code",
   "execution_count": 2,
   "id": "95c0d737",
   "metadata": {},
   "outputs": [],
   "source": [
    "# 데이터셋 인스턴스 생성\n",
    "\n",
    "data = pd.read_csv(r\"C:\\Users\\tjdgu\\CodingFiles\\AI_Introduction\\week6\\diabetes.csv\")  # CSV 파일 경로"
   ]
  },
  {
   "cell_type": "code",
   "execution_count": 3,
   "id": "dc5cc004",
   "metadata": {},
   "outputs": [
    {
     "data": {
      "text/html": [
       "<div>\n",
       "<style scoped>\n",
       "    .dataframe tbody tr th:only-of-type {\n",
       "        vertical-align: middle;\n",
       "    }\n",
       "\n",
       "    .dataframe tbody tr th {\n",
       "        vertical-align: top;\n",
       "    }\n",
       "\n",
       "    .dataframe thead th {\n",
       "        text-align: right;\n",
       "    }\n",
       "</style>\n",
       "<table border=\"1\" class=\"dataframe\">\n",
       "  <thead>\n",
       "    <tr style=\"text-align: right;\">\n",
       "      <th></th>\n",
       "      <th>Pregnancies</th>\n",
       "      <th>Glucose</th>\n",
       "      <th>BloodPressure</th>\n",
       "      <th>SkinThickness</th>\n",
       "      <th>Insulin</th>\n",
       "      <th>BMI</th>\n",
       "      <th>DiabetesPedigreeFunction</th>\n",
       "      <th>Age</th>\n",
       "      <th>Outcome</th>\n",
       "    </tr>\n",
       "  </thead>\n",
       "  <tbody>\n",
       "    <tr>\n",
       "      <th>0</th>\n",
       "      <td>6</td>\n",
       "      <td>148</td>\n",
       "      <td>72</td>\n",
       "      <td>35</td>\n",
       "      <td>0</td>\n",
       "      <td>33.6</td>\n",
       "      <td>0.627</td>\n",
       "      <td>50</td>\n",
       "      <td>1</td>\n",
       "    </tr>\n",
       "    <tr>\n",
       "      <th>1</th>\n",
       "      <td>1</td>\n",
       "      <td>85</td>\n",
       "      <td>66</td>\n",
       "      <td>29</td>\n",
       "      <td>0</td>\n",
       "      <td>26.6</td>\n",
       "      <td>0.351</td>\n",
       "      <td>31</td>\n",
       "      <td>0</td>\n",
       "    </tr>\n",
       "    <tr>\n",
       "      <th>2</th>\n",
       "      <td>8</td>\n",
       "      <td>183</td>\n",
       "      <td>64</td>\n",
       "      <td>0</td>\n",
       "      <td>0</td>\n",
       "      <td>23.3</td>\n",
       "      <td>0.672</td>\n",
       "      <td>32</td>\n",
       "      <td>1</td>\n",
       "    </tr>\n",
       "    <tr>\n",
       "      <th>3</th>\n",
       "      <td>1</td>\n",
       "      <td>89</td>\n",
       "      <td>66</td>\n",
       "      <td>23</td>\n",
       "      <td>94</td>\n",
       "      <td>28.1</td>\n",
       "      <td>0.167</td>\n",
       "      <td>21</td>\n",
       "      <td>0</td>\n",
       "    </tr>\n",
       "    <tr>\n",
       "      <th>4</th>\n",
       "      <td>0</td>\n",
       "      <td>137</td>\n",
       "      <td>40</td>\n",
       "      <td>35</td>\n",
       "      <td>168</td>\n",
       "      <td>43.1</td>\n",
       "      <td>2.288</td>\n",
       "      <td>33</td>\n",
       "      <td>1</td>\n",
       "    </tr>\n",
       "    <tr>\n",
       "      <th>...</th>\n",
       "      <td>...</td>\n",
       "      <td>...</td>\n",
       "      <td>...</td>\n",
       "      <td>...</td>\n",
       "      <td>...</td>\n",
       "      <td>...</td>\n",
       "      <td>...</td>\n",
       "      <td>...</td>\n",
       "      <td>...</td>\n",
       "    </tr>\n",
       "    <tr>\n",
       "      <th>763</th>\n",
       "      <td>10</td>\n",
       "      <td>101</td>\n",
       "      <td>76</td>\n",
       "      <td>48</td>\n",
       "      <td>180</td>\n",
       "      <td>32.9</td>\n",
       "      <td>0.171</td>\n",
       "      <td>63</td>\n",
       "      <td>0</td>\n",
       "    </tr>\n",
       "    <tr>\n",
       "      <th>764</th>\n",
       "      <td>2</td>\n",
       "      <td>122</td>\n",
       "      <td>70</td>\n",
       "      <td>27</td>\n",
       "      <td>0</td>\n",
       "      <td>36.8</td>\n",
       "      <td>0.340</td>\n",
       "      <td>27</td>\n",
       "      <td>0</td>\n",
       "    </tr>\n",
       "    <tr>\n",
       "      <th>765</th>\n",
       "      <td>5</td>\n",
       "      <td>121</td>\n",
       "      <td>72</td>\n",
       "      <td>23</td>\n",
       "      <td>112</td>\n",
       "      <td>26.2</td>\n",
       "      <td>0.245</td>\n",
       "      <td>30</td>\n",
       "      <td>0</td>\n",
       "    </tr>\n",
       "    <tr>\n",
       "      <th>766</th>\n",
       "      <td>1</td>\n",
       "      <td>126</td>\n",
       "      <td>60</td>\n",
       "      <td>0</td>\n",
       "      <td>0</td>\n",
       "      <td>30.1</td>\n",
       "      <td>0.349</td>\n",
       "      <td>47</td>\n",
       "      <td>1</td>\n",
       "    </tr>\n",
       "    <tr>\n",
       "      <th>767</th>\n",
       "      <td>1</td>\n",
       "      <td>93</td>\n",
       "      <td>70</td>\n",
       "      <td>31</td>\n",
       "      <td>0</td>\n",
       "      <td>30.4</td>\n",
       "      <td>0.315</td>\n",
       "      <td>23</td>\n",
       "      <td>0</td>\n",
       "    </tr>\n",
       "  </tbody>\n",
       "</table>\n",
       "<p>768 rows × 9 columns</p>\n",
       "</div>"
      ],
      "text/plain": [
       "     Pregnancies  Glucose  BloodPressure  SkinThickness  Insulin   BMI  \\\n",
       "0              6      148             72             35        0  33.6   \n",
       "1              1       85             66             29        0  26.6   \n",
       "2              8      183             64              0        0  23.3   \n",
       "3              1       89             66             23       94  28.1   \n",
       "4              0      137             40             35      168  43.1   \n",
       "..           ...      ...            ...            ...      ...   ...   \n",
       "763           10      101             76             48      180  32.9   \n",
       "764            2      122             70             27        0  36.8   \n",
       "765            5      121             72             23      112  26.2   \n",
       "766            1      126             60              0        0  30.1   \n",
       "767            1       93             70             31        0  30.4   \n",
       "\n",
       "     DiabetesPedigreeFunction  Age  Outcome  \n",
       "0                       0.627   50        1  \n",
       "1                       0.351   31        0  \n",
       "2                       0.672   32        1  \n",
       "3                       0.167   21        0  \n",
       "4                       2.288   33        1  \n",
       "..                        ...  ...      ...  \n",
       "763                     0.171   63        0  \n",
       "764                     0.340   27        0  \n",
       "765                     0.245   30        0  \n",
       "766                     0.349   47        1  \n",
       "767                     0.315   23        0  \n",
       "\n",
       "[768 rows x 9 columns]"
      ]
     },
     "execution_count": 3,
     "metadata": {},
     "output_type": "execute_result"
    }
   ],
   "source": [
    "data"
   ]
  },
  {
   "cell_type": "code",
   "execution_count": 4,
   "id": "84a4a54f",
   "metadata": {},
   "outputs": [],
   "source": [
    "# 데이터에서 입력값(X)과 정답값(y) 분리\n",
    "X = data.drop('BMI', axis=1).values  # 특성 8개\n",
    "y = data['BMI'].values.astype(np.float32)  # 회귀용 → 실수(float32)로 변환"
   ]
  },
  {
   "cell_type": "code",
   "execution_count": 5,
   "id": "644b8da5",
   "metadata": {},
   "outputs": [],
   "source": [
    "# 데이터 정규화\n",
    "scaler = StandardScaler()\n",
    "X = scaler.fit_transform(X)\n",
    "\n",
    "# 훈련 데이터, 테스트 데이터로 나누기\n",
    "X_train, X_test, y_train, y_test = train_test_split(X, y, test_size=0.2, random_state=0)"
   ]
  },
  {
   "cell_type": "code",
   "execution_count": 6,
   "id": "9d25c686",
   "metadata": {},
   "outputs": [
    {
     "data": {
      "text/plain": [
       "((614, 8), (154, 8), (614,), (154,))"
      ]
     },
     "execution_count": 6,
     "metadata": {},
     "output_type": "execute_result"
    }
   ],
   "source": [
    "X_train.shape, X_test.shape, y_train.shape, y_test.shape, "
   ]
  },
  {
   "cell_type": "code",
   "execution_count": 7,
   "id": "c1bf4be5",
   "metadata": {},
   "outputs": [],
   "source": [
    "# 넘파이 → PyTorch 텐서로 변환\n",
    "# 회귀 모델은 출력값이 (배치, 1) 모양이어야 하므로 .view(-1, 1) 필수\n",
    "X_train = torch.tensor(X_train, dtype=torch.float32)\n",
    "y_train = torch.tensor(y_train, dtype=torch.float32).view(-1, 1)\n",
    "X_test = torch.tensor(X_test, dtype=torch.float32)\n",
    "y_test = torch.tensor(y_test, dtype=torch.float32).view(-1, 1)"
   ]
  },
  {
   "cell_type": "code",
   "execution_count": 8,
   "id": "7c5743a0",
   "metadata": {},
   "outputs": [],
   "source": [
    "# 데이터를 배치사이즈 만큼 꺼내줌\n",
    "train_dataset = TensorDataset(X_train, y_train)\n",
    "train_dataloader = DataLoader(train_dataset, batch_size=32, shuffle=True)\n",
    "\n",
    "# 입력값, 정답값 하나로 묶기\n",
    "test_dataset = TensorDataset(X_test, y_test)\n",
    "test_dataloader = DataLoader(test_dataset, batch_size=32, shuffle=False)"
   ]
  },
  {
   "cell_type": "code",
   "execution_count": 9,
   "id": "b32ba6de",
   "metadata": {},
   "outputs": [
    {
     "data": {
      "text/plain": [
       "(torch.Size([614, 8]),\n",
       " torch.Size([154, 8]),\n",
       " torch.Size([614, 1]),\n",
       " torch.Size([154, 1]))"
      ]
     },
     "execution_count": 9,
     "metadata": {},
     "output_type": "execute_result"
    }
   ],
   "source": [
    "X_train.shape, X_test.shape, y_train.shape, y_test.shape"
   ]
  },
  {
   "cell_type": "markdown",
   "id": "29cb1afb",
   "metadata": {},
   "source": [
    "# 모델 정의"
   ]
  },
  {
   "cell_type": "code",
   "execution_count": 10,
   "id": "edf1d642",
   "metadata": {},
   "outputs": [],
   "source": [
    "# 회귀 모델 정의: 출력 노드를 1개로 설정\n",
    "class DiabetesRegressor(nn.Module):\n",
    "    def __init__(self):\n",
    "        super(DiabetesRegressor, self).__init__()\n",
    "        self.fc1 = nn.Linear(8, 64)   # 입력: 8개 특성\n",
    "        self.fc2 = nn.Linear(64, 32)  # 은닉층: 64 → 32\n",
    "        self.fc3 = nn.Linear(32, 1)   # 출력층: 예측값 1개 (회귀)\n",
    "\n",
    "    def forward(self, x):\n",
    "        x = torch.relu(self.fc1(x))\n",
    "        x = torch.relu(self.fc2(x))\n",
    "        return self.fc3(x)  # 마지막에는 활성화 함수 없이 그대로 출력\n",
    "\n",
    "# 모델 인스턴스 생성\n",
    "model = DiabetesRegressor()"
   ]
  },
  {
   "cell_type": "markdown",
   "id": "9be587e7",
   "metadata": {},
   "source": [
    "# 손실 함수 및 최적화 기법 정의"
   ]
  },
  {
   "cell_type": "code",
   "execution_count": 11,
   "id": "32ea43f7",
   "metadata": {},
   "outputs": [],
   "source": [
    "# 회귀용 손실 함수: 평균제곱오차 (Mean Squared Error)\n",
    "criterion = nn.MSELoss()\n",
    "\n",
    "# Adam 최적화 기법 사용\n",
    "optimizer = optim.Adam(model.parameters(), lr=0.001)"
   ]
  },
  {
   "cell_type": "markdown",
   "id": "3d0cbeb0",
   "metadata": {},
   "source": [
    "# 모델 학습"
   ]
  },
  {
   "cell_type": "code",
   "execution_count": 12,
   "id": "1b022524",
   "metadata": {
    "scrolled": false
   },
   "outputs": [
    {
     "name": "stdout",
     "output_type": "stream",
     "text": [
      "Epoch 1/20, Loss: 1060.1951, Test MSE: 986.1705\n",
      "Epoch 2/20, Loss: 1017.9986, Test MSE: 925.4245\n",
      "Epoch 3/20, Loss: 928.8372, Test MSE: 816.4859\n",
      "Epoch 4/20, Loss: 791.1717, Test MSE: 651.9942\n",
      "Epoch 5/20, Loss: 587.7190, Test MSE: 445.5469\n",
      "Epoch 6/20, Loss: 367.2090, Test MSE: 249.1166\n",
      "Epoch 7/20, Loss: 197.9766, Test MSE: 129.4157\n",
      "Epoch 8/20, Loss: 117.0685, Test MSE: 89.9234\n",
      "Epoch 9/20, Loss: 91.8184, Test MSE: 80.9123\n",
      "Epoch 10/20, Loss: 79.2397, Test MSE: 76.2061\n",
      "Epoch 11/20, Loss: 73.4443, Test MSE: 72.4547\n",
      "Epoch 12/20, Loss: 70.7955, Test MSE: 70.1207\n",
      "Epoch 13/20, Loss: 66.7007, Test MSE: 67.5659\n",
      "Epoch 14/20, Loss: 64.4025, Test MSE: 65.9358\n",
      "Epoch 15/20, Loss: 60.9959, Test MSE: 64.4771\n",
      "Epoch 16/20, Loss: 60.2531, Test MSE: 63.3871\n",
      "Epoch 17/20, Loss: 59.2350, Test MSE: 62.6584\n",
      "Epoch 18/20, Loss: 56.7478, Test MSE: 61.4273\n",
      "Epoch 19/20, Loss: 63.9042, Test MSE: 60.4250\n",
      "Epoch 20/20, Loss: 54.9395, Test MSE: 60.2366\n"
     ]
    }
   ],
   "source": [
    "# 에폭별 손실값과 테스트 MSE를 저장할 리스트 초기화\n",
    "train_losses = []\n",
    "test_mses = []\n",
    "\n",
    "# 학습을 20번 반복 (에폭 수)\n",
    "num_epochs = 20\n",
    "for epoch in range(num_epochs):\n",
    "    model.train()  # 학습 모드 설정 (Dropout, BatchNorm 등이 활성화됨)\n",
    "    running_loss = 0.0  # 에폭 동안 누적 손실값\n",
    "\n",
    "    # 훈련 데이터셋을 미니배치 단위로 순회\n",
    "    for inputs, labels in train_dataloader:\n",
    "        optimizer.zero_grad()        # 이전 step의 기울기 초기화\n",
    "        outputs = model(inputs)      # 순전파 → 예측값 계산\n",
    "        loss = criterion(outputs, labels)  # 손실 함수로 오차 계산 (MSE)\n",
    "        loss.backward()              # 역전파 → 기울기 계산\n",
    "        optimizer.step()             # 옵티마이저로 가중치 업데이트\n",
    "\n",
    "        running_loss += loss.item()  # 배치 손실 누적\n",
    "\n",
    "    # 에폭당 평균 손실 저장\n",
    "    train_losses.append(running_loss / len(train_dataloader))\n",
    "\n",
    "    # === 테스트 성능 평가 (MSE 기반) ===\n",
    "    model.eval()  # 평가 모드 전환 (Dropout 등 비활성화)\n",
    "    predictions, actuals = [], []  # 예측값/실제값 저장 리스트\n",
    "\n",
    "    with torch.no_grad():  # 평가 시에는 기울기 계산 비활성화 (메모리 효율↑)\n",
    "        for inputs, labels in test_dataloader:\n",
    "            outputs = model(inputs)  # 예측값 계산\n",
    "            # .squeeze(): 텐서 차원을 줄여서 1D 배열로 만듦\n",
    "            predictions.extend(outputs.squeeze().cpu().numpy())  \n",
    "            actuals.extend(labels.squeeze().cpu().numpy())\n",
    "\n",
    "    # 평균 제곱 오차(MSE) 계산\n",
    "    mse = mean_squared_error(actuals, predictions)\n",
    "    test_mses.append(mse)\n",
    "\n",
    "    # 에폭별 훈련 손실과 테스트 MSE 출력\n",
    "    print(f\"Epoch {epoch+1}/{num_epochs}, Loss: {train_losses[-1]:.4f}, Test MSE: {mse:.4f}\")"
   ]
  },
  {
   "cell_type": "markdown",
   "id": "7ee551f8",
   "metadata": {},
   "source": [
    "# 모델 평가"
   ]
  },
  {
   "cell_type": "code",
   "execution_count": 13,
   "id": "8160ffb8",
   "metadata": {},
   "outputs": [
    {
     "name": "stdout",
     "output_type": "stream",
     "text": [
      "Test MSE: 60.2366\n"
     ]
    }
   ],
   "source": [
    "# 평가 모드로 전환\n",
    "model.eval()\n",
    "\n",
    "# 예측값과 실제값 저장 리스트\n",
    "predictions, actuals = [], []\n",
    "\n",
    "with torch.no_grad():\n",
    "    for inputs, labels in test_dataloader:\n",
    "        outputs = model(inputs)\n",
    "        predictions.extend(outputs.squeeze().cpu().numpy())  # 예측값\n",
    "        actuals.extend(labels.squeeze().cpu().numpy())       # 실제값\n",
    "\n",
    "# 평균제곱오차 (MSE) 계산\n",
    "from sklearn.metrics import mean_squared_error\n",
    "mse = mean_squared_error(actuals, predictions)\n",
    "print(f\"Test MSE: {mse:.4f}\")"
   ]
  },
  {
   "cell_type": "code",
   "execution_count": 14,
   "id": "263e0aec",
   "metadata": {},
   "outputs": [
    {
     "name": "stderr",
     "output_type": "stream",
     "text": [
      "c:\\Users\\tjdgu\\anaconda3\\Lib\\site-packages\\IPython\\core\\pylabtools.py:170: UserWarning: Glyph 54924 (\\N{HANGUL SYLLABLE HOE}) missing from font(s) DejaVu Sans.\n",
      "  fig.canvas.print_figure(bytes_io, **kw)\n",
      "c:\\Users\\tjdgu\\anaconda3\\Lib\\site-packages\\IPython\\core\\pylabtools.py:170: UserWarning: Glyph 44480 (\\N{HANGUL SYLLABLE GWI}) missing from font(s) DejaVu Sans.\n",
      "  fig.canvas.print_figure(bytes_io, **kw)\n",
      "c:\\Users\\tjdgu\\anaconda3\\Lib\\site-packages\\IPython\\core\\pylabtools.py:170: UserWarning: Glyph 44208 (\\N{HANGUL SYLLABLE GYEOL}) missing from font(s) DejaVu Sans.\n",
      "  fig.canvas.print_figure(bytes_io, **kw)\n",
      "c:\\Users\\tjdgu\\anaconda3\\Lib\\site-packages\\IPython\\core\\pylabtools.py:170: UserWarning: Glyph 44284 (\\N{HANGUL SYLLABLE GWA}) missing from font(s) DejaVu Sans.\n",
      "  fig.canvas.print_figure(bytes_io, **kw)\n",
      "c:\\Users\\tjdgu\\anaconda3\\Lib\\site-packages\\IPython\\core\\pylabtools.py:170: UserWarning: Glyph 48708 (\\N{HANGUL SYLLABLE BI}) missing from font(s) DejaVu Sans.\n",
      "  fig.canvas.print_figure(bytes_io, **kw)\n",
      "c:\\Users\\tjdgu\\anaconda3\\Lib\\site-packages\\IPython\\core\\pylabtools.py:170: UserWarning: Glyph 44368 (\\N{HANGUL SYLLABLE GYO}) missing from font(s) DejaVu Sans.\n",
      "  fig.canvas.print_figure(bytes_io, **kw)\n"
     ]
    },
    {
     "data": {
      "image/png": "[encoded data removed]",
      "text/plain": [
       "<Figure size 1000x500 with 1 Axes>"
      ]
     },
     "metadata": {},
     "output_type": "display_data"
    }
   ],
   "source": [
    "# 예측값과 실제값을 나란히 시각화하여 비교\n",
    "plt.figure(figsize=(10, 5))\n",
    "plt.plot(predictions[:50], label='Predicted', marker='o')\n",
    "plt.plot(actuals[:50], label='Actual', marker='x')\n",
    "plt.title('Predicted vs Actual BMI (회귀 결과 비교)')\n",
    "plt.xlabel('Sample')\n",
    "plt.ylabel('Predicted Value')\n",
    "plt.legend()\n",
    "plt.grid(True)\n",
    "plt.show()"
   ]
  },
  {
   "cell_type": "code",
   "execution_count": null,
   "id": "88076c01",
   "metadata": {},
   "outputs": [],
   "source": []
  }
 ],
 "metadata": {
  "kernelspec": {
   "display_name": "base",
   "language": "python",
   "name": "python3"
  },
  "language_info": {
   "codemirror_mode": {
    "name": "ipython",
    "version": 3
   },
   "file_extension": ".py",
   "mimetype": "text/x-python",
   "name": "python",
   "nbconvert_exporter": "python",
   "pygments_lexer": "ipython3",
   "version": "3.12.7"
  }
 },
 "nbformat": 4,
 "nbformat_minor": 5
}
