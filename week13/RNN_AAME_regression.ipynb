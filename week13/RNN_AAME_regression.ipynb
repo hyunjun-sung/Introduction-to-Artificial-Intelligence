{
 "cells": [
  {
   "cell_type": "code",
   "execution_count": 1,
   "id": "d965b4a2",
   "metadata": {},
   "outputs": [],
   "source": [
    "import pandas as pd\n",
    "import numpy as np\n",
    "import matplotlib.pyplot as plt\n",
    "from sklearn.preprocessing import MinMaxScaler\n",
    "from sklearn.model_selection import train_test_split\n",
    "from tensorflow.keras.models import Sequential\n",
    "from tensorflow.keras.layers import SimpleRNN, Dense\n",
    "from sklearn.metrics import mean_squared_error"
   ]
  },
  {
   "cell_type": "code",
   "execution_count": 2,
   "id": "22971fa6",
   "metadata": {},
   "outputs": [
    {
     "data": {
      "text/html": [
       "<div>\n",
       "<style scoped>\n",
       "    .dataframe tbody tr th:only-of-type {\n",
       "        vertical-align: middle;\n",
       "    }\n",
       "\n",
       "    .dataframe tbody tr th {\n",
       "        vertical-align: top;\n",
       "    }\n",
       "\n",
       "    .dataframe thead th {\n",
       "        text-align: right;\n",
       "    }\n",
       "</style>\n",
       "<table border=\"1\" class=\"dataframe\">\n",
       "  <thead>\n",
       "    <tr style=\"text-align: right;\">\n",
       "      <th></th>\n",
       "      <th>Date</th>\n",
       "      <th>Open</th>\n",
       "      <th>High</th>\n",
       "      <th>Low</th>\n",
       "      <th>Close</th>\n",
       "      <th>Adj Close</th>\n",
       "      <th>Volume</th>\n",
       "    </tr>\n",
       "  </thead>\n",
       "  <tbody>\n",
       "    <tr>\n",
       "      <th>0</th>\n",
       "      <td>1980-03-17</td>\n",
       "      <td>0.00</td>\n",
       "      <td>4.05</td>\n",
       "      <td>3.85</td>\n",
       "      <td>3.85</td>\n",
       "      <td>3.213167</td>\n",
       "      <td>15000</td>\n",
       "    </tr>\n",
       "    <tr>\n",
       "      <th>1</th>\n",
       "      <td>1980-03-18</td>\n",
       "      <td>0.00</td>\n",
       "      <td>4.00</td>\n",
       "      <td>3.80</td>\n",
       "      <td>3.80</td>\n",
       "      <td>3.171437</td>\n",
       "      <td>10200</td>\n",
       "    </tr>\n",
       "    <tr>\n",
       "      <th>2</th>\n",
       "      <td>1980-03-19</td>\n",
       "      <td>0.00</td>\n",
       "      <td>4.05</td>\n",
       "      <td>3.85</td>\n",
       "      <td>3.85</td>\n",
       "      <td>3.213167</td>\n",
       "      <td>33500</td>\n",
       "    </tr>\n",
       "    <tr>\n",
       "      <th>3</th>\n",
       "      <td>1980-03-20</td>\n",
       "      <td>0.00</td>\n",
       "      <td>4.00</td>\n",
       "      <td>3.80</td>\n",
       "      <td>3.80</td>\n",
       "      <td>3.171437</td>\n",
       "      <td>8700</td>\n",
       "    </tr>\n",
       "    <tr>\n",
       "      <th>4</th>\n",
       "      <td>1980-03-21</td>\n",
       "      <td>0.00</td>\n",
       "      <td>3.95</td>\n",
       "      <td>3.75</td>\n",
       "      <td>3.75</td>\n",
       "      <td>3.129709</td>\n",
       "      <td>12700</td>\n",
       "    </tr>\n",
       "    <tr>\n",
       "      <th>...</th>\n",
       "      <td>...</td>\n",
       "      <td>...</td>\n",
       "      <td>...</td>\n",
       "      <td>...</td>\n",
       "      <td>...</td>\n",
       "      <td>...</td>\n",
       "      <td>...</td>\n",
       "    </tr>\n",
       "    <tr>\n",
       "      <th>10093</th>\n",
       "      <td>2020-03-26</td>\n",
       "      <td>2.29</td>\n",
       "      <td>2.29</td>\n",
       "      <td>2.08</td>\n",
       "      <td>2.28</td>\n",
       "      <td>2.280000</td>\n",
       "      <td>1600</td>\n",
       "    </tr>\n",
       "    <tr>\n",
       "      <th>10094</th>\n",
       "      <td>2020-03-27</td>\n",
       "      <td>2.25</td>\n",
       "      <td>2.25</td>\n",
       "      <td>2.21</td>\n",
       "      <td>2.25</td>\n",
       "      <td>2.250000</td>\n",
       "      <td>500</td>\n",
       "    </tr>\n",
       "    <tr>\n",
       "      <th>10095</th>\n",
       "      <td>2020-03-30</td>\n",
       "      <td>2.25</td>\n",
       "      <td>2.25</td>\n",
       "      <td>2.13</td>\n",
       "      <td>2.13</td>\n",
       "      <td>2.130000</td>\n",
       "      <td>400</td>\n",
       "    </tr>\n",
       "    <tr>\n",
       "      <th>10096</th>\n",
       "      <td>2020-03-31</td>\n",
       "      <td>2.11</td>\n",
       "      <td>2.11</td>\n",
       "      <td>2.11</td>\n",
       "      <td>2.11</td>\n",
       "      <td>2.110000</td>\n",
       "      <td>300</td>\n",
       "    </tr>\n",
       "    <tr>\n",
       "      <th>10097</th>\n",
       "      <td>2020-04-01</td>\n",
       "      <td>2.11</td>\n",
       "      <td>2.15</td>\n",
       "      <td>2.11</td>\n",
       "      <td>2.15</td>\n",
       "      <td>2.150000</td>\n",
       "      <td>600</td>\n",
       "    </tr>\n",
       "  </tbody>\n",
       "</table>\n",
       "<p>10098 rows × 7 columns</p>\n",
       "</div>"
      ],
      "text/plain": [
       "             Date  Open  High   Low  Close  Adj Close  Volume\n",
       "0      1980-03-17  0.00  4.05  3.85   3.85   3.213167   15000\n",
       "1      1980-03-18  0.00  4.00  3.80   3.80   3.171437   10200\n",
       "2      1980-03-19  0.00  4.05  3.85   3.85   3.213167   33500\n",
       "3      1980-03-20  0.00  4.00  3.80   3.80   3.171437    8700\n",
       "4      1980-03-21  0.00  3.95  3.75   3.75   3.129709   12700\n",
       "...           ...   ...   ...   ...    ...        ...     ...\n",
       "10093  2020-03-26  2.29  2.29  2.08   2.28   2.280000    1600\n",
       "10094  2020-03-27  2.25  2.25  2.21   2.25   2.250000     500\n",
       "10095  2020-03-30  2.25  2.25  2.13   2.13   2.130000     400\n",
       "10096  2020-03-31  2.11  2.11  2.11   2.11   2.110000     300\n",
       "10097  2020-04-01  2.11  2.15  2.11   2.15   2.150000     600\n",
       "\n",
       "[10098 rows x 7 columns]"
      ]
     },
     "execution_count": 2,
     "metadata": {},
     "output_type": "execute_result"
    }
   ],
   "source": [
    "# 데이터 불러오기\n",
    "df = pd.read_csv(r\"C:\\Users\\tjdgu\\CodingFiles\\AI_Introduction\\week13\\AAME.csv\")\n",
    "\n",
    "df"
   ]
  },
  {
   "cell_type": "code",
   "execution_count": 3,
   "id": "18b2ae7f",
   "metadata": {},
   "outputs": [
    {
     "data": {
      "text/html": [
       "<div>\n",
       "<style scoped>\n",
       "    .dataframe tbody tr th:only-of-type {\n",
       "        vertical-align: middle;\n",
       "    }\n",
       "\n",
       "    .dataframe tbody tr th {\n",
       "        vertical-align: top;\n",
       "    }\n",
       "\n",
       "    .dataframe thead th {\n",
       "        text-align: right;\n",
       "    }\n",
       "</style>\n",
       "<table border=\"1\" class=\"dataframe\">\n",
       "  <thead>\n",
       "    <tr style=\"text-align: right;\">\n",
       "      <th></th>\n",
       "      <th>Open</th>\n",
       "      <th>High</th>\n",
       "      <th>Low</th>\n",
       "      <th>Close</th>\n",
       "    </tr>\n",
       "  </thead>\n",
       "  <tbody>\n",
       "    <tr>\n",
       "      <th>66</th>\n",
       "      <td>3.80</td>\n",
       "      <td>3.80</td>\n",
       "      <td>3.80</td>\n",
       "      <td>3.80</td>\n",
       "    </tr>\n",
       "    <tr>\n",
       "      <th>71</th>\n",
       "      <td>3.50</td>\n",
       "      <td>3.50</td>\n",
       "      <td>3.50</td>\n",
       "      <td>3.50</td>\n",
       "    </tr>\n",
       "    <tr>\n",
       "      <th>72</th>\n",
       "      <td>3.50</td>\n",
       "      <td>3.50</td>\n",
       "      <td>3.50</td>\n",
       "      <td>3.50</td>\n",
       "    </tr>\n",
       "    <tr>\n",
       "      <th>118</th>\n",
       "      <td>4.60</td>\n",
       "      <td>4.60</td>\n",
       "      <td>4.60</td>\n",
       "      <td>4.60</td>\n",
       "    </tr>\n",
       "    <tr>\n",
       "      <th>194</th>\n",
       "      <td>5.25</td>\n",
       "      <td>5.25</td>\n",
       "      <td>5.25</td>\n",
       "      <td>5.25</td>\n",
       "    </tr>\n",
       "    <tr>\n",
       "      <th>...</th>\n",
       "      <td>...</td>\n",
       "      <td>...</td>\n",
       "      <td>...</td>\n",
       "      <td>...</td>\n",
       "    </tr>\n",
       "    <tr>\n",
       "      <th>10093</th>\n",
       "      <td>2.29</td>\n",
       "      <td>2.29</td>\n",
       "      <td>2.08</td>\n",
       "      <td>2.28</td>\n",
       "    </tr>\n",
       "    <tr>\n",
       "      <th>10094</th>\n",
       "      <td>2.25</td>\n",
       "      <td>2.25</td>\n",
       "      <td>2.21</td>\n",
       "      <td>2.25</td>\n",
       "    </tr>\n",
       "    <tr>\n",
       "      <th>10095</th>\n",
       "      <td>2.25</td>\n",
       "      <td>2.25</td>\n",
       "      <td>2.13</td>\n",
       "      <td>2.13</td>\n",
       "    </tr>\n",
       "    <tr>\n",
       "      <th>10096</th>\n",
       "      <td>2.11</td>\n",
       "      <td>2.11</td>\n",
       "      <td>2.11</td>\n",
       "      <td>2.11</td>\n",
       "    </tr>\n",
       "    <tr>\n",
       "      <th>10097</th>\n",
       "      <td>2.11</td>\n",
       "      <td>2.15</td>\n",
       "      <td>2.11</td>\n",
       "      <td>2.15</td>\n",
       "    </tr>\n",
       "  </tbody>\n",
       "</table>\n",
       "<p>8526 rows × 4 columns</p>\n",
       "</div>"
      ],
      "text/plain": [
       "       Open  High   Low  Close\n",
       "66     3.80  3.80  3.80   3.80\n",
       "71     3.50  3.50  3.50   3.50\n",
       "72     3.50  3.50  3.50   3.50\n",
       "118    4.60  4.60  4.60   4.60\n",
       "194    5.25  5.25  5.25   5.25\n",
       "...     ...   ...   ...    ...\n",
       "10093  2.29  2.29  2.08   2.28\n",
       "10094  2.25  2.25  2.21   2.25\n",
       "10095  2.25  2.25  2.13   2.13\n",
       "10096  2.11  2.11  2.11   2.11\n",
       "10097  2.11  2.15  2.11   2.15\n",
       "\n",
       "[8526 rows x 4 columns]"
      ]
     },
     "execution_count": 3,
     "metadata": {},
     "output_type": "execute_result"
    }
   ],
   "source": [
    "# 이상치 제거 (Open이 0인 경우 제거)\n",
    "\n",
    "df_clean = df[['Open', 'High', 'Low', 'Close']].copy()\n",
    "df_clean = df_clean[df_clean['Open'] != 0]\n",
    "df_clean.dropna(inplace=True)\n",
    "\n",
    "df_clean"
   ]
  },
  {
   "cell_type": "code",
   "execution_count": 4,
   "id": "46574123",
   "metadata": {},
   "outputs": [
    {
     "data": {
      "text/plain": [
       "array([[0.25163704, 0.25163704, 0.25512104, 0.25163704],\n",
       "       [0.22918615, 0.22918615, 0.23277467, 0.22918615],\n",
       "       [0.22918615, 0.22918615, 0.23277467, 0.22918615],\n",
       "       ...,\n",
       "       [0.13564078, 0.13564078, 0.13072626, 0.12666044],\n",
       "       [0.12516369, 0.12516369, 0.12923649, 0.12516369],\n",
       "       [0.12516369, 0.12815716, 0.12923649, 0.12815716]])"
      ]
     },
     "execution_count": 4,
     "metadata": {},
     "output_type": "execute_result"
    }
   ],
   "source": [
    "# 정규화\n",
    "scaler = MinMaxScaler()\n",
    "scaled_data = scaler.fit_transform(df_clean)\n",
    "\n",
    "scaled_data"
   ]
  },
  {
   "cell_type": "code",
   "execution_count": 5,
   "id": "d7434881",
   "metadata": {},
   "outputs": [],
   "source": [
    "# 시퀀스 생성\n",
    "def create_sequences(data, seq_length):\n",
    "    X, y = [], []\n",
    "    for i in range(len(data) - seq_length):\n",
    "        X.append(data[i:i+seq_length, :3])  # Open, High, Low\n",
    "        y.append(data[i+seq_length, 3])     # Close\n",
    "    return np.array(X), np.array(y)\n",
    "\n",
    "seq_length = 10\n",
    "X, y = create_sequences(scaled_data, seq_length)"
   ]
  },
  {
   "cell_type": "code",
   "execution_count": 6,
   "id": "1eeb5b49",
   "metadata": {},
   "outputs": [
    {
     "data": {
      "text/plain": [
       "array([[[0.25163704, 0.25163704, 0.25512104],\n",
       "        [0.22918615, 0.22918615, 0.23277467],\n",
       "        [0.22918615, 0.22918615, 0.23277467],\n",
       "        ...,\n",
       "        [0.33395697, 0.33395697, 0.33705773],\n",
       "        [0.33395697, 0.33395697, 0.33705773],\n",
       "        [0.33021514, 0.33021514, 0.33333332]],\n",
       "\n",
       "       [[0.22918615, 0.22918615, 0.23277467],\n",
       "        [0.22918615, 0.22918615, 0.23277467],\n",
       "        [0.31150607, 0.31150607, 0.31471135],\n",
       "        ...,\n",
       "        [0.33395697, 0.33395697, 0.33705773],\n",
       "        [0.33021514, 0.33021514, 0.33333332],\n",
       "        [0.34144059, 0.34144059, 0.34450651]],\n",
       "\n",
       "       [[0.22918615, 0.22918615, 0.23277467],\n",
       "        [0.31150607, 0.31150607, 0.31471135],\n",
       "        [0.36014967, 0.36014967, 0.36312849],\n",
       "        ...,\n",
       "        [0.33021514, 0.33021514, 0.33333332],\n",
       "        [0.34144059, 0.34144059, 0.34450651],\n",
       "        [0.33021514, 0.33021514, 0.33333332]],\n",
       "\n",
       "       ...,\n",
       "\n",
       "       [[0.15434986, 0.15434986, 0.15009312],\n",
       "        [0.14536951, 0.14536951, 0.13594041],\n",
       "        [0.13189897, 0.13189897, 0.13594041],\n",
       "        ...,\n",
       "        [0.1393826 , 0.1393826 , 0.12998137],\n",
       "        [0.13863423, 0.13863423, 0.12700185],\n",
       "        [0.13564078, 0.13564078, 0.13668529]],\n",
       "\n",
       "       [[0.14536951, 0.14536951, 0.13594041],\n",
       "        [0.13189897, 0.13189897, 0.13594041],\n",
       "        [0.14985968, 0.14985968, 0.15083799],\n",
       "        ...,\n",
       "        [0.13863423, 0.13863423, 0.12700185],\n",
       "        [0.13564078, 0.13564078, 0.13668529],\n",
       "        [0.13564078, 0.13564078, 0.13072626]],\n",
       "\n",
       "       [[0.13189897, 0.13189897, 0.13594041],\n",
       "        [0.14985968, 0.14985968, 0.15083799],\n",
       "        [0.14013096, 0.14013096, 0.14413407],\n",
       "        ...,\n",
       "        [0.13564078, 0.13564078, 0.13668529],\n",
       "        [0.13564078, 0.13564078, 0.13072626],\n",
       "        [0.12516369, 0.12516369, 0.12923649]]])"
      ]
     },
     "execution_count": 6,
     "metadata": {},
     "output_type": "execute_result"
    }
   ],
   "source": [
    "X"
   ]
  },
  {
   "cell_type": "code",
   "execution_count": 7,
   "id": "ed35e313",
   "metadata": {},
   "outputs": [
    {
     "data": {
      "text/plain": [
       "array([0.34144059, 0.33021514, 0.32273152, ..., 0.12666044, 0.12516369,\n",
       "       0.12815716])"
      ]
     },
     "execution_count": 7,
     "metadata": {},
     "output_type": "execute_result"
    }
   ],
   "source": [
    "y"
   ]
  },
  {
   "cell_type": "code",
   "execution_count": 8,
   "id": "2fb68686",
   "metadata": {},
   "outputs": [
    {
     "data": {
      "text/plain": [
       "((6812, 10, 3), (1704, 10, 3), (6812,), (1704,))"
      ]
     },
     "execution_count": 8,
     "metadata": {},
     "output_type": "execute_result"
    }
   ],
   "source": [
    "# 훈련/테스트 분리\n",
    "X_train, X_test, y_train, y_test = train_test_split(X, y, test_size=0.2, shuffle=False)\n",
    "\n",
    "# 훈련, 테스트 데이터 형태 확인\n",
    "X_train.shape, X_test.shape, y_train.shape, y_test.shape"
   ]
  },
  {
   "cell_type": "code",
   "execution_count": 9,
   "id": "f69576de",
   "metadata": {},
   "outputs": [
    {
     "name": "stderr",
     "output_type": "stream",
     "text": [
      "c:\\Users\\tjdgu\\anaconda3\\Lib\\site-packages\\keras\\src\\layers\\rnn\\rnn.py:200: UserWarning: Do not pass an `input_shape`/`input_dim` argument to a layer. When using Sequential models, prefer using an `Input(shape)` object as the first layer in the model instead.\n",
      "  super().__init__(**kwargs)\n"
     ]
    },
    {
     "data": {
      "text/html": [
       "<pre style=\"white-space:pre;overflow-x:auto;line-height:normal;font-family:Menlo,'DejaVu Sans Mono',consolas,'Courier New',monospace\"><span style=\"font-weight: bold\">Model: \"sequential\"</span>\n",
       "</pre>\n"
      ],
      "text/plain": [
       "\u001b[1mModel: \"sequential\"\u001b[0m\n"
      ]
     },
     "metadata": {},
     "output_type": "display_data"
    },
    {
     "data": {
      "text/html": [
       "<pre style=\"white-space:pre;overflow-x:auto;line-height:normal;font-family:Menlo,'DejaVu Sans Mono',consolas,'Courier New',monospace\">┏━━━━━━━━━━━━━━━━━━━━━━━━━━━━━━━━━┳━━━━━━━━━━━━━━━━━━━━━━━━┳━━━━━━━━━━━━━━━┓\n",
       "┃<span style=\"font-weight: bold\"> Layer (type)                    </span>┃<span style=\"font-weight: bold\"> Output Shape           </span>┃<span style=\"font-weight: bold\">       Param # </span>┃\n",
       "┡━━━━━━━━━━━━━━━━━━━━━━━━━━━━━━━━━╇━━━━━━━━━━━━━━━━━━━━━━━━╇━━━━━━━━━━━━━━━┩\n",
       "│ simple_rnn (<span style=\"color: #0087ff; text-decoration-color: #0087ff\">SimpleRNN</span>)          │ (<span style=\"color: #00d7ff; text-decoration-color: #00d7ff\">None</span>, <span style=\"color: #00af00; text-decoration-color: #00af00\">64</span>)             │         <span style=\"color: #00af00; text-decoration-color: #00af00\">4,352</span> │\n",
       "├─────────────────────────────────┼────────────────────────┼───────────────┤\n",
       "│ dense (<span style=\"color: #0087ff; text-decoration-color: #0087ff\">Dense</span>)                   │ (<span style=\"color: #00d7ff; text-decoration-color: #00d7ff\">None</span>, <span style=\"color: #00af00; text-decoration-color: #00af00\">1</span>)              │            <span style=\"color: #00af00; text-decoration-color: #00af00\">65</span> │\n",
       "└─────────────────────────────────┴────────────────────────┴───────────────┘\n",
       "</pre>\n"
      ],
      "text/plain": [
       "┏━━━━━━━━━━━━━━━━━━━━━━━━━━━━━━━━━┳━━━━━━━━━━━━━━━━━━━━━━━━┳━━━━━━━━━━━━━━━┓\n",
       "┃\u001b[1m \u001b[0m\u001b[1mLayer (type)                   \u001b[0m\u001b[1m \u001b[0m┃\u001b[1m \u001b[0m\u001b[1mOutput Shape          \u001b[0m\u001b[1m \u001b[0m┃\u001b[1m \u001b[0m\u001b[1m      Param #\u001b[0m\u001b[1m \u001b[0m┃\n",
       "┡━━━━━━━━━━━━━━━━━━━━━━━━━━━━━━━━━╇━━━━━━━━━━━━━━━━━━━━━━━━╇━━━━━━━━━━━━━━━┩\n",
       "│ simple_rnn (\u001b[38;5;33mSimpleRNN\u001b[0m)          │ (\u001b[38;5;45mNone\u001b[0m, \u001b[38;5;34m64\u001b[0m)             │         \u001b[38;5;34m4,352\u001b[0m │\n",
       "├─────────────────────────────────┼────────────────────────┼───────────────┤\n",
       "│ dense (\u001b[38;5;33mDense\u001b[0m)                   │ (\u001b[38;5;45mNone\u001b[0m, \u001b[38;5;34m1\u001b[0m)              │            \u001b[38;5;34m65\u001b[0m │\n",
       "└─────────────────────────────────┴────────────────────────┴───────────────┘\n"
      ]
     },
     "metadata": {},
     "output_type": "display_data"
    },
    {
     "data": {
      "text/html": [
       "<pre style=\"white-space:pre;overflow-x:auto;line-height:normal;font-family:Menlo,'DejaVu Sans Mono',consolas,'Courier New',monospace\"><span style=\"font-weight: bold\"> Total params: </span><span style=\"color: #00af00; text-decoration-color: #00af00\">4,417</span> (17.25 KB)\n",
       "</pre>\n"
      ],
      "text/plain": [
       "\u001b[1m Total params: \u001b[0m\u001b[38;5;34m4,417\u001b[0m (17.25 KB)\n"
      ]
     },
     "metadata": {},
     "output_type": "display_data"
    },
    {
     "data": {
      "text/html": [
       "<pre style=\"white-space:pre;overflow-x:auto;line-height:normal;font-family:Menlo,'DejaVu Sans Mono',consolas,'Courier New',monospace\"><span style=\"font-weight: bold\"> Trainable params: </span><span style=\"color: #00af00; text-decoration-color: #00af00\">4,417</span> (17.25 KB)\n",
       "</pre>\n"
      ],
      "text/plain": [
       "\u001b[1m Trainable params: \u001b[0m\u001b[38;5;34m4,417\u001b[0m (17.25 KB)\n"
      ]
     },
     "metadata": {},
     "output_type": "display_data"
    },
    {
     "data": {
      "text/html": [
       "<pre style=\"white-space:pre;overflow-x:auto;line-height:normal;font-family:Menlo,'DejaVu Sans Mono',consolas,'Courier New',monospace\"><span style=\"font-weight: bold\"> Non-trainable params: </span><span style=\"color: #00af00; text-decoration-color: #00af00\">0</span> (0.00 B)\n",
       "</pre>\n"
      ],
      "text/plain": [
       "\u001b[1m Non-trainable params: \u001b[0m\u001b[38;5;34m0\u001b[0m (0.00 B)\n"
      ]
     },
     "metadata": {},
     "output_type": "display_data"
    }
   ],
   "source": [
    "# RNN 모델 구성\n",
    "model = Sequential([\n",
    "    SimpleRNN(64, activation='tanh', input_shape=(seq_length, 3)),\n",
    "    Dense(1)\n",
    "])\n",
    "model.compile(optimizer='adam', loss='mse')\n",
    "\n",
    "model.summary()"
   ]
  },
  {
   "cell_type": "code",
   "execution_count": 10,
   "id": "61580750",
   "metadata": {},
   "outputs": [
    {
     "name": "stdout",
     "output_type": "stream",
     "text": [
      "Epoch 1/20\n",
      "\u001b[1m426/426\u001b[0m \u001b[32m━━━━━━━━━━━━━━━━━━━━\u001b[0m\u001b[37m\u001b[0m \u001b[1m2s\u001b[0m 2ms/step - loss: 0.0021 - val_loss: 1.0376e-04\n",
      "Epoch 2/20\n",
      "\u001b[1m426/426\u001b[0m \u001b[32m━━━━━━━━━━━━━━━━━━━━\u001b[0m\u001b[37m\u001b[0m \u001b[1m1s\u001b[0m 1ms/step - loss: 2.0130e-04 - val_loss: 9.8655e-05\n",
      "Epoch 3/20\n",
      "\u001b[1m426/426\u001b[0m \u001b[32m━━━━━━━━━━━━━━━━━━━━\u001b[0m\u001b[37m\u001b[0m \u001b[1m1s\u001b[0m 2ms/step - loss: 1.9451e-04 - val_loss: 1.1214e-04\n",
      "Epoch 4/20\n",
      "\u001b[1m426/426\u001b[0m \u001b[32m━━━━━━━━━━━━━━━━━━━━\u001b[0m\u001b[37m\u001b[0m \u001b[1m1s\u001b[0m 2ms/step - loss: 1.6929e-04 - val_loss: 1.1634e-04\n",
      "Epoch 5/20\n",
      "\u001b[1m426/426\u001b[0m \u001b[32m━━━━━━━━━━━━━━━━━━━━\u001b[0m\u001b[37m\u001b[0m \u001b[1m1s\u001b[0m 2ms/step - loss: 1.7581e-04 - val_loss: 6.9826e-05\n",
      "Epoch 6/20\n",
      "\u001b[1m426/426\u001b[0m \u001b[32m━━━━━━━━━━━━━━━━━━━━\u001b[0m\u001b[37m\u001b[0m \u001b[1m1s\u001b[0m 2ms/step - loss: 1.7707e-04 - val_loss: 6.6682e-05\n",
      "Epoch 7/20\n",
      "\u001b[1m426/426\u001b[0m \u001b[32m━━━━━━━━━━━━━━━━━━━━\u001b[0m\u001b[37m\u001b[0m \u001b[1m1s\u001b[0m 2ms/step - loss: 1.6085e-04 - val_loss: 6.8942e-05\n",
      "Epoch 8/20\n",
      "\u001b[1m426/426\u001b[0m \u001b[32m━━━━━━━━━━━━━━━━━━━━\u001b[0m\u001b[37m\u001b[0m \u001b[1m1s\u001b[0m 2ms/step - loss: 1.6358e-04 - val_loss: 1.5610e-04\n",
      "Epoch 9/20\n",
      "\u001b[1m426/426\u001b[0m \u001b[32m━━━━━━━━━━━━━━━━━━━━\u001b[0m\u001b[37m\u001b[0m \u001b[1m1s\u001b[0m 2ms/step - loss: 1.7460e-04 - val_loss: 6.7112e-05\n",
      "Epoch 10/20\n",
      "\u001b[1m426/426\u001b[0m \u001b[32m━━━━━━━━━━━━━━━━━━━━\u001b[0m\u001b[37m\u001b[0m \u001b[1m1s\u001b[0m 2ms/step - loss: 1.4462e-04 - val_loss: 2.2703e-04\n",
      "Epoch 11/20\n",
      "\u001b[1m426/426\u001b[0m \u001b[32m━━━━━━━━━━━━━━━━━━━━\u001b[0m\u001b[37m\u001b[0m \u001b[1m1s\u001b[0m 2ms/step - loss: 1.8995e-04 - val_loss: 1.0003e-04\n",
      "Epoch 12/20\n",
      "\u001b[1m426/426\u001b[0m \u001b[32m━━━━━━━━━━━━━━━━━━━━\u001b[0m\u001b[37m\u001b[0m \u001b[1m1s\u001b[0m 2ms/step - loss: 1.3894e-04 - val_loss: 6.2434e-05\n",
      "Epoch 13/20\n",
      "\u001b[1m426/426\u001b[0m \u001b[32m━━━━━━━━━━━━━━━━━━━━\u001b[0m\u001b[37m\u001b[0m \u001b[1m1s\u001b[0m 2ms/step - loss: 1.5809e-04 - val_loss: 6.3009e-05\n",
      "Epoch 14/20\n",
      "\u001b[1m426/426\u001b[0m \u001b[32m━━━━━━━━━━━━━━━━━━━━\u001b[0m\u001b[37m\u001b[0m \u001b[1m1s\u001b[0m 2ms/step - loss: 1.6335e-04 - val_loss: 7.2823e-05\n",
      "Epoch 15/20\n",
      "\u001b[1m426/426\u001b[0m \u001b[32m━━━━━━━━━━━━━━━━━━━━\u001b[0m\u001b[37m\u001b[0m \u001b[1m1s\u001b[0m 2ms/step - loss: 1.5115e-04 - val_loss: 6.4554e-05\n",
      "Epoch 16/20\n",
      "\u001b[1m426/426\u001b[0m \u001b[32m━━━━━━━━━━━━━━━━━━━━\u001b[0m\u001b[37m\u001b[0m \u001b[1m1s\u001b[0m 2ms/step - loss: 1.4289e-04 - val_loss: 8.0941e-05\n",
      "Epoch 17/20\n",
      "\u001b[1m426/426\u001b[0m \u001b[32m━━━━━━━━━━━━━━━━━━━━\u001b[0m\u001b[37m\u001b[0m \u001b[1m1s\u001b[0m 2ms/step - loss: 1.4076e-04 - val_loss: 6.5131e-05\n",
      "Epoch 18/20\n",
      "\u001b[1m426/426\u001b[0m \u001b[32m━━━━━━━━━━━━━━━━━━━━\u001b[0m\u001b[37m\u001b[0m \u001b[1m1s\u001b[0m 2ms/step - loss: 1.6858e-04 - val_loss: 3.1904e-04\n",
      "Epoch 19/20\n",
      "\u001b[1m426/426\u001b[0m \u001b[32m━━━━━━━━━━━━━━━━━━━━\u001b[0m\u001b[37m\u001b[0m \u001b[1m1s\u001b[0m 2ms/step - loss: 1.4753e-04 - val_loss: 6.2530e-05\n",
      "Epoch 20/20\n",
      "\u001b[1m426/426\u001b[0m \u001b[32m━━━━━━━━━━━━━━━━━━━━\u001b[0m\u001b[37m\u001b[0m \u001b[1m1s\u001b[0m 2ms/step - loss: 1.3067e-04 - val_loss: 6.8455e-05\n"
     ]
    },
    {
     "data": {
      "text/plain": [
       "<keras.src.callbacks.history.History at 0x1bcababde80>"
      ]
     },
     "execution_count": 10,
     "metadata": {},
     "output_type": "execute_result"
    }
   ],
   "source": [
    "# 학습\n",
    "model.fit(X_train, y_train, epochs=20, batch_size=16, validation_data=(X_test, y_test))"
   ]
  },
  {
   "cell_type": "code",
   "execution_count": 11,
   "id": "934cfa3a",
   "metadata": {},
   "outputs": [
    {
     "name": "stdout",
     "output_type": "stream",
     "text": [
      "\u001b[1m54/54\u001b[0m \u001b[32m━━━━━━━━━━━━━━━━━━━━\u001b[0m\u001b[37m\u001b[0m \u001b[1m0s\u001b[0m 3ms/step\n",
      "Test MSE (Normalized): 0.000068\n"
     ]
    }
   ],
   "source": [
    "# 예측\n",
    "y_pred = model.predict(X_test)\n",
    "\n",
    "# MSE 계산 및 출력\n",
    "mse = mean_squared_error(y_test, y_pred)\n",
    "print(f\"Test MSE (Normalized): {mse:.6f}\")"
   ]
  },
  {
   "cell_type": "code",
   "execution_count": 12,
   "id": "5bcfde38",
   "metadata": {},
   "outputs": [
    {
     "data": {
      "image/png": "[encoded data removed]",
      "text/plain": [
       "<Figure size 1200x500 with 1 Axes>"
      ]
     },
     "metadata": {},
     "output_type": "display_data"
    }
   ],
   "source": [
    "# 시각화\n",
    "plt.figure(figsize=(12, 5))\n",
    "plt.plot(y_test, label='Actual Close')\n",
    "plt.plot(y_pred, label='Predicted Close')\n",
    "plt.title('RNN Close Price Prediction vs Actual')\n",
    "plt.xlabel('Time Step')\n",
    "plt.ylabel('Normalized Close Price')\n",
    "plt.legend()\n",
    "plt.grid(True)\n",
    "plt.tight_layout()\n",
    "plt.show()\n"
   ]
  },
  {
   "cell_type": "code",
   "execution_count": null,
   "id": "8970967b",
   "metadata": {},
   "outputs": [],
   "source": []
  }
 ],
 "metadata": {
  "kernelspec": {
   "display_name": "base",
   "language": "python",
   "name": "python3"
  },
  "language_info": {
   "codemirror_mode": {
    "name": "ipython",
    "version": 3
   },
   "file_extension": ".py",
   "mimetype": "text/x-python",
   "name": "python",
   "nbconvert_exporter": "python",
   "pygments_lexer": "ipython3",
   "version": "3.12.7"
  }
 },
 "nbformat": 4,
 "nbformat_minor": 5
}
